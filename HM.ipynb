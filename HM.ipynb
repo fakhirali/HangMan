{
 "cells": [
  {
   "cell_type": "code",
   "execution_count": 1,
   "metadata": {},
   "outputs": [],
   "source": [
    "import random\n",
    "import PyDictionary as pd"
   ]
  },
  {
   "cell_type": "code",
   "execution_count": 2,
   "metadata": {},
   "outputs": [],
   "source": [
    "diction = pd.PyDictionary()"
   ]
  },
  {
   "cell_type": "code",
   "execution_count": 3,
   "metadata": {},
   "outputs": [],
   "source": [
    "dictionary = open('english3.txt' , 'r').readlines()"
   ]
  },
  {
   "cell_type": "code",
   "execution_count": 4,
   "metadata": {},
   "outputs": [],
   "source": [
    "def print_with_spaces(a):\n",
    "    b = \"\"\n",
    "    for i in range(len(a)):\n",
    "        b += a[i] + \" \"\n",
    "    print(b)"
   ]
  },
  {
   "cell_type": "code",
   "execution_count": 15,
   "metadata": {
    "scrolled": true
   },
   "outputs": [
    {
     "name": "stdout",
     "output_type": "stream",
     "text": [
      "_  _  _  _  _  _  _  _  \n",
      "choose a letter a\n",
      "_  _  _  _  a _  _  _  \n",
      "choose a letter e\n",
      "_  _  _  _  a _  _  e \n",
      "choose a letter r\n",
      "_  r _  _  a _  r e \n",
      "choose a letter t\n",
      "lives left 5\n",
      "_  r _  _  a _  r e \n",
      "choose a letter p\n",
      "lives left 4\n",
      "_  r _  _  a _  r e \n",
      "choose a letter o\n",
      "lives left 3\n",
      "_  r _  _  a _  r e \n",
      "choose a letter i\n",
      "_  r _  _  a i r e \n",
      "choose a letter f\n",
      "lives left 2\n",
      "_  r _  _  a i r e \n",
      "choose a letter c\n",
      "lives left 1\n",
      "_  r _  _  a i r e \n",
      "choose a letter m\n",
      "_  r _  m a i r e \n",
      "choose a letter l\n",
      "lives left 0\n",
      "game over\n",
      "b r u m a i r e \n",
      "{'Noun': ['second month of the Revolutionary calendar (October and November']}\n",
      "_  r _  m a i r e \n"
     ]
    }
   ],
   "source": [
    "lives = 6\n",
    "end = False\n",
    "original_word = dictionary[random.randint(0,len(dictionary)-1)][:-1]\n",
    "while diction.meaning(original_word) == None:\n",
    "    original_word = dictionary[random.randint(0,len(dictionary)-1)][:-1]\n",
    "guessed_word = []\n",
    "letters_chosen = []\n",
    "for i in range(len(original_word)):\n",
    "    guessed_word.append(\"_ \")\n",
    "\n",
    "print_with_spaces(guessed_word)\n",
    "\n",
    "while not end:\n",
    "    \n",
    "    letter = input(\"choose a letter \")\n",
    "    if letter not in letters_chosen:\n",
    "        letters_chosen.append(letter)\n",
    "        hang = True\n",
    "\n",
    "        for i in range(len(original_word)):\n",
    "            if  original_word[i] == letter:\n",
    "                hang = False\n",
    "                guessed_word[i] = letter\n",
    "        if hang:\n",
    "            lives -= 1\n",
    "            print(\"lives left\" , lives)\n",
    "            if lives == 0:\n",
    "                print(\"game over\")\n",
    "                print_with_spaces(original_word)\n",
    "                print(diction.meaning(original_word))\n",
    "                end = True\n",
    "        no = True\n",
    "        for i in range(len(guessed_word)):\n",
    "            if guessed_word[i] == \"_ \":\n",
    "                no = False\n",
    "        if no  ==  True:\n",
    "            end = True\n",
    "            print(diction.meaning(original_word))\n",
    "        print_with_spaces(guessed_word)\n",
    "    else:\n",
    "        print(\"letter already chosen\")\n",
    "        print_with_spaces(guessed_word)"
   ]
  },
  {
   "cell_type": "code",
   "execution_count": null,
   "metadata": {},
   "outputs": [],
   "source": []
  }
 ],
 "metadata": {
  "kernelspec": {
   "display_name": "Python 3",
   "language": "python",
   "name": "python3"
  },
  "language_info": {
   "codemirror_mode": {
    "name": "ipython",
    "version": 3
   },
   "file_extension": ".py",
   "mimetype": "text/x-python",
   "name": "python",
   "nbconvert_exporter": "python",
   "pygments_lexer": "ipython3",
   "version": "3.6.4"
  }
 },
 "nbformat": 4,
 "nbformat_minor": 2
}
