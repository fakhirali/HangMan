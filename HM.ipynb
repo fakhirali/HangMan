{
 "cells": [
  {
   "cell_type": "code",
   "execution_count": 1,
   "metadata": {},
   "outputs": [],
   "source": [
    "def prit(a):\n",
    "    b = \"\"\n",
    "    for i in range(len(a)):\n",
    "        b += a[i] + \" \"\n",
    "    print(b)"
   ]
  },
  {
   "cell_type": "code",
   "execution_count": 6,
   "metadata": {
    "scrolled": true
   },
   "outputs": [
    {
     "name": "stdout",
     "output_type": "stream",
     "text": [
      "what is the word hamdani\n",
      "_  _  _  _  _  _  _  \n",
      "choose a letter a\n",
      "_  a _  _  a _  _  \n",
      "choose a letter r\n",
      "lives left 5\n",
      "_  a _  _  a _  _  \n",
      "choose a letter e\n",
      "lives left 4\n",
      "_  a _  _  a _  _  \n",
      "choose a letter i\n",
      "_  a _  _  a _  i \n",
      "choose a letter h\n",
      "h a _  _  a _  i \n",
      "choose a letter c\n",
      "lives left 3\n",
      "h a _  _  a _  i \n",
      "choose a letter d\n",
      "h a _  d a _  i \n",
      "choose a letter t\n",
      "lives left 2\n",
      "h a _  d a _  i \n",
      "choose a letter k\n",
      "lives left 1\n",
      "h a _  d a _  i \n",
      "choose a letter end\n",
      "lives left 0\n",
      "game over\n",
      "h a _  d a _  i \n"
     ]
    }
   ],
   "source": [
    "lives = 6\n",
    "end = False\n",
    "a = input(\"what is the word \")\n",
    "#print(a)\n",
    "c = []\n",
    "for i in range(len(a)):\n",
    "    c.append(\"_ \")\n",
    "prit(c)\n",
    "while not end:\n",
    "    b = input(\"choose a letter \")\n",
    "    hang = True\n",
    "    for i in range(len(a)):\n",
    "        if  a[i] == b:\n",
    "            hang = False\n",
    "            c[i] = b\n",
    "    if hang:\n",
    "        lives -= 1\n",
    "        print(\"lives left\" , lives)\n",
    "        if lives == 0:\n",
    "            print(\"game over\")\n",
    "            end = True\n",
    "    no = True\n",
    "    for i in range(len(c)):\n",
    "        if c[i] == \"_ \":\n",
    "            no = False\n",
    "    if no  ==  True:\n",
    "        end = True\n",
    "    prit(c)"
   ]
  },
  {
   "cell_type": "code",
   "execution_count": null,
   "metadata": {},
   "outputs": [],
   "source": []
  }
 ],
 "metadata": {
  "kernelspec": {
   "display_name": "Python 3",
   "language": "python",
   "name": "python3"
  },
  "language_info": {
   "codemirror_mode": {
    "name": "ipython",
    "version": 3
   },
   "file_extension": ".py",
   "mimetype": "text/x-python",
   "name": "python",
   "nbconvert_exporter": "python",
   "pygments_lexer": "ipython3",
   "version": "3.6.4"
  }
 },
 "nbformat": 4,
 "nbformat_minor": 2
}
